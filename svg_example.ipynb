{
 "cells": [
  {
   "cell_type": "markdown",
   "metadata": {},
   "source": [
    "<h2 style='text-align: center'>Watermarking Jupyter Notebooks</h2>\n",
    "<h3 style='text-align: center'>SVG to the rescue!</h3>\n",
    "<hr style='border-color: black;border-width: 1px'/>\n",
    "My [first](./traditional_image_file.ipynb) [two](./base64_image_file.ipynb) attempts at watermarking Jupyter Notebooks met with limited success.  This third attempt, however, I think does the trick.  Here, I use the fancy [SVG](https://developer.mozilla.org/en-US/docs/Web/SVG/Element/svg) and [text](https://developer.mozilla.org/en-US/docs/Web/SVG/Element/text) tags to create my watermark without the need of an image file, so I get complete portability in a small package.  True, I still have a cell in my notebook focused merely on styling the notebook, but I can always take this markup and place it in a [global custom.css](http://sherifsoliman.com/2016/01/11/theming-ipython-jupyter-notebook/)."
   ]
  },
  {
   "cell_type": "code",
   "execution_count": 2,
   "metadata": {},
   "outputs": [
    {
     "data": {
      "text/html": [
       "<style type=\"text/css\">div#notebook {background-image: url(\"data:image/svg+xml;utf8,<svg xmlns='http://www.w3.org/2000/svg' version='1.1' height='600px' width='600px'><text x='-350' y='500' fill='lightgray' font-size='80' font-family='Arial' transform='translate(30) rotate(-45 0 0)'>DadOverflow.com</text></svg>\");background-repeat: repeat;}</style>"
      ],
      "text/plain": [
       "<IPython.core.display.HTML object>"
      ]
     },
     "execution_count": 2,
     "metadata": {},
     "output_type": "execute_result"
    }
   ],
   "source": [
    "from IPython.core.display import HTML\n",
    "\n",
    "\n",
    "svg = (\"<svg xmlns='http://www.w3.org/2000/svg' version='1.1' height='600px' width='600px'>\"\n",
    "       \"<text x='-350' y='500' fill='lightgray' font-size='80' font-family='Arial' transform='translate(30) rotate(-45 0 0)'>DadOverflow.com</text></svg>\")\n",
    "HTML('<style type=\"text/css\">'\n",
    "    'div#notebook {'\n",
    "    'background-image: url(\"data:image/svg+xml;utf8,' + svg + '\");'\n",
    "    'background-repeat: repeat;}'\n",
    "    '</style>')"
   ]
  }
 ],
 "metadata": {
  "kernelspec": {
   "display_name": "Python 3",
   "language": "python",
   "name": "python3"
  },
  "language_info": {
   "codemirror_mode": {
    "name": "ipython",
    "version": 3
   },
   "file_extension": ".py",
   "mimetype": "text/x-python",
   "name": "python",
   "nbconvert_exporter": "python",
   "pygments_lexer": "ipython3",
   "version": "3.6.2"
  }
 },
 "nbformat": 4,
 "nbformat_minor": 2
}
