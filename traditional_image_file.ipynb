{
 "cells": [
  {
   "cell_type": "markdown",
   "metadata": {},
   "source": [
    "<h2 style='text-align: center'>Watermarking Jupyter Notebooks</h2>\n",
    "<h3 style='text-align: center'>Using a PNG file</h3>\n",
    "<hr style='border-color: black;border-width: 1px'/>\n",
    "Watermarking private content, yes, can be quite annoying.  But it can also be quite annoying to have people swipe your hard work without giving you credit (I'm looking at certain co-workers).  I wonder if there's a way to watermark my jupyter notebooks so that it can be known who, in fact, created the notebook in the first place?\n",
    "\n",
    "It seems like the most popular way to apply a watermark to an HTML page is by first creating an image file with your watermark and then applying it as a background image to your page.  In this example, I first created a watermark image in [Paint.NET](https://www.getpaint.net/) and then used the [IPython API](https://ipython.org/ipython-doc/2/api/index.html) to load that image as a background image to the notebook.\n",
    "\n",
    "This works pretty well, but I see two problems:\n",
    "1. Having one cell dedicated to formatting my notebook seems distracting.  If I'm writing a notebook to build some sort of machine learning model, I'd want the cells in the notebook to be dedicated to that purpose and nothing else.  It'd be nice if I could at least hide the notebook-formatting cell.  I'm sure I can, with some more research.  Alternatively, I could put this style code in a [global custom.css](http://sherifsoliman.com/2016/01/11/theming-ipython-jupyter-notebook/).\n",
    "1. This approach isn't very portable.  If I want to share my notebook with someone, it'd be nice if my watermark could travel with my notebook.  However, that would mean not only sharing my notebook, but also the watermark image file--which can be easily tossed to the side.  Ideally, my watermark should be embedded in my notebook so that it travels with it with ease.  [Here's another approach](./base64_image_file.ipynb) that gets a little closer to my goal."
   ]
  },
  {
   "cell_type": "code",
   "execution_count": 1,
   "metadata": {},
   "outputs": [
    {
     "data": {
      "text/html": [
       "<style type=\"text/css\">div#notebook {background-image: url(\"dadoverflow_wm.png\");background-repeat: repeat;}</style>"
      ],
      "text/plain": [
       "<IPython.core.display.HTML object>"
      ]
     },
     "execution_count": 1,
     "metadata": {},
     "output_type": "execute_result"
    }
   ],
   "source": [
    "from IPython.core.display import HTML\n",
    "\n",
    "\n",
    "HTML('<style type=\"text/css\">'\n",
    "    'div#notebook {'\n",
    "    'background-image: url(\"dadoverflow_wm.png\");'\n",
    "    'background-repeat: repeat;}'\n",
    "    '</style>')"
   ]
  }
 ],
 "metadata": {
  "kernelspec": {
   "display_name": "Python 3",
   "language": "python",
   "name": "python3"
  },
  "language_info": {
   "codemirror_mode": {
    "name": "ipython",
    "version": 3
   },
   "file_extension": ".py",
   "mimetype": "text/x-python",
   "name": "python",
   "nbconvert_exporter": "python",
   "pygments_lexer": "ipython3",
   "version": "3.6.2"
  }
 },
 "nbformat": 4,
 "nbformat_minor": 2
}
